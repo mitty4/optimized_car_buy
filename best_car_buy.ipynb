{
 "cells": [
  {
   "cell_type": "markdown",
   "metadata": {},
   "source": [
    "# Optimized Car Buying with real data\n",
    "\n",
    "I will create a model that suggests the year, make, and model of a car for the best bang for your buck. \n",
    "\n",
    "#### Study Design\n",
    "\n",
    "The model will be based on getting the most miles up to 200k miles for the least price in dollars per mile. \n",
    "\n",
    "I will scrape the Cars.com website with python and beautifulsoup4 to gather the needed information:\n",
    "\n",
    "1) The current mileage.\n",
    "2) The price of each car. \n",
    "3) The year of each car.\n",
    "\n",
    "\n",
    "Note: this model is limited in application because determining the best bang for your buck involves many more variables that are often inconsistent such as maintenance, having to buy a car more often because its older, and others.\n",
    "\n",
    "The parameters of this study will be choosing sedans less than 10 yrs old, only Honda Accord, Toyota Camry and Chevy Impalas, and will be selected by complex random sampling that will be stratified by 2 yr increments and by make.\n",
    "\n",
    "**The code is reusable for other makes and models of cars, however, these are the ones I chose."
   ]
  },
  {
   "cell_type": "markdown",
   "metadata": {},
   "source": [
    "\n",
    "## Import website to be scraped and scrape it"
   ]
  },
  {
   "cell_type": "code",
   "execution_count": 3,
   "metadata": {},
   "outputs": [
    {
     "name": "stdout",
     "output_type": "stream",
     "text": [
      "2283102\n",
      "4623322\n"
     ]
    }
   ],
   "source": [
    "#I chose to webscrape instead of an API because there were no free API's available for this one study.\n",
    "import requests\n",
    "\n",
    "\n",
    "#define make according to cars.com\n",
    "honda = '20017'\n",
    "toyota = '20088'\n",
    "chevy = '20053'\n",
    "\n",
    "\n",
    "#define model according to cars.com\n",
    "accord = '20606'\n",
    "camry = '20800'\n",
    "impala = '21291'\n",
    "\n",
    "#define our variables for path search criteria\n",
    "mdl = accord+'%2C'+camry+'%2C'+impala\n",
    "mk = honda+'%2C'+toyota+'%2C'+chevy\n",
    "zip = \"\"\n",
    "page='1'\n",
    "page2='2'\n",
    "#format the path to include the variables we chose (i.e. honda accord)\n",
    "path = \"https://www.cars.com/for-sale/searchresults.action/?cpoId=28444&cylCntId=28108&dealerType=all&dlrRvwId=47621&drCntId=28004&mdId={}&mkId={}&mlgId=28861&page={}&perPage=100&rd=99999&searchSource=SORT&sort=best-deal&zc={}\".format(mdl,mk,page,zip)\n",
    "path2 = \"https://www.cars.com/for-sale/searchresults.action/?cpoId=28444&cylCntId=28108&dealerType=all&dlrRvwId=47621&drCntId=28004&mdId={}&mkId={}&mlgId=28861&page={}&perPage=100&rd=99999&searchSource=SORT&sort=best-deal&zc={}\".format(mdl,mk,page2,zip)\n",
    "\n",
    "\n",
    "r = requests.get(path)\n",
    "print(len(r.text))\n",
    "r2 = requests.get(path2)\n",
    "test = r.text+r2.text\n",
    "print(len(test))\n"
   ]
  },
  {
   "cell_type": "code",
   "execution_count": 5,
   "metadata": {},
   "outputs": [
    {
     "name": "stdout",
     "output_type": "stream",
     "text": [
      "10\n"
     ]
    }
   ],
   "source": [
    "# import webscraping libraries\n",
    "import csv\n",
    "from bs4 import BeautifulSoup\n",
    "soup = BeautifulSoup(test)\n",
    "\n",
    "\n",
    "# determine the number of iterations by how many cars came in the search\n",
    "import math\n",
    "\n",
    "filter_count = int(soup.find('span',{'class':'filter-count'}).text.strip())\n",
    "print(math.ceil(filter_count/100))"
   ]
  },
  {
   "cell_type": "code",
   "execution_count": 6,
   "metadata": {},
   "outputs": [],
   "source": [
    "# create csv file with webscraped data\n",
    "# define column headers\n",
    "columns = ['year','make','model','price','mileage','price_per_mile']\n",
    "\n",
    "cars = soup.findAll('div',{'class':'listing-row__details'})\n",
    "\n",
    "with open('cars_data_file.csv', mode='w') as cars_file:\n",
    "    cars_file= csv.writer(cars_file, delimiter=',', quotechar='\"', quoting=csv.QUOTE_MINIMAL)\n",
    "    cars_file.writerow(columns)\n",
    "    for car in cars:\n",
    "        #get data for each car\n",
    "        year = car.findAll('h2',{'class':'listing-row__title'})[0].text.strip().split(' ')[0]\n",
    "        make = car.findAll('h2',{'class':'listing-row__title'})[0].text.strip().split(' ')[1]\n",
    "        model = car.findAll('h2',{'class':'listing-row__title'})[0].text.strip().split(' ')[2]\n",
    "        price = int(car.findAll('span',{'class':'listing-row__price'})[0].text.strip().split(' ')[0].replace(\"$\",\"\").replace(\",\",\"\"))\n",
    "        mileage = int(car.findAll('span',{'class':'listing-row__mileage'})[0].text.strip().split(' ')[0].replace(\",\",\"\"))\n",
    "        mileage_left = 200000-mileage\n",
    "        price_per_mile = round(int(price)/int(mileage_left),3)\n",
    "        car_data = [cars.index(car),year,make,model,price,mileage,price_per_mile]\n",
    "        #print(car_data)\n",
    "\n",
    "        cars_file.writerow(car_data)"
   ]
  },
  {
   "cell_type": "markdown",
   "metadata": {},
   "source": [
    "\n",
    "## Import the current dataset"
   ]
  },
  {
   "cell_type": "code",
   "execution_count": 7,
   "metadata": {},
   "outputs": [
    {
     "data": {
      "text/html": [
       "<div>\n",
       "<style scoped>\n",
       "    .dataframe tbody tr th:only-of-type {\n",
       "        vertical-align: middle;\n",
       "    }\n",
       "\n",
       "    .dataframe tbody tr th {\n",
       "        vertical-align: top;\n",
       "    }\n",
       "\n",
       "    .dataframe thead th {\n",
       "        text-align: right;\n",
       "    }\n",
       "</style>\n",
       "<table border=\"1\" class=\"dataframe\">\n",
       "  <thead>\n",
       "    <tr style=\"text-align: right;\">\n",
       "      <th></th>\n",
       "      <th>year</th>\n",
       "      <th>make</th>\n",
       "      <th>model</th>\n",
       "      <th>price</th>\n",
       "      <th>mileage</th>\n",
       "      <th>price_per_mile</th>\n",
       "    </tr>\n",
       "  </thead>\n",
       "  <tbody>\n",
       "    <tr>\n",
       "      <th>0</th>\n",
       "      <td>2017</td>\n",
       "      <td>Chevrolet</td>\n",
       "      <td>Impala</td>\n",
       "      <td>16665</td>\n",
       "      <td>10805</td>\n",
       "      <td>0.088</td>\n",
       "    </tr>\n",
       "    <tr>\n",
       "      <th>1</th>\n",
       "      <td>2020</td>\n",
       "      <td>Chevrolet</td>\n",
       "      <td>Impala</td>\n",
       "      <td>26831</td>\n",
       "      <td>13142</td>\n",
       "      <td>0.144</td>\n",
       "    </tr>\n",
       "    <tr>\n",
       "      <th>2</th>\n",
       "      <td>2017</td>\n",
       "      <td>Chevrolet</td>\n",
       "      <td>Impala</td>\n",
       "      <td>21595</td>\n",
       "      <td>16500</td>\n",
       "      <td>0.118</td>\n",
       "    </tr>\n",
       "    <tr>\n",
       "      <th>3</th>\n",
       "      <td>2016</td>\n",
       "      <td>Chevrolet</td>\n",
       "      <td>Impala</td>\n",
       "      <td>25995</td>\n",
       "      <td>20305</td>\n",
       "      <td>0.145</td>\n",
       "    </tr>\n",
       "    <tr>\n",
       "      <th>4</th>\n",
       "      <td>2017</td>\n",
       "      <td>Chevrolet</td>\n",
       "      <td>Impala</td>\n",
       "      <td>16995</td>\n",
       "      <td>21560</td>\n",
       "      <td>0.095</td>\n",
       "    </tr>\n",
       "    <tr>\n",
       "      <th>...</th>\n",
       "      <td>...</td>\n",
       "      <td>...</td>\n",
       "      <td>...</td>\n",
       "      <td>...</td>\n",
       "      <td>...</td>\n",
       "      <td>...</td>\n",
       "    </tr>\n",
       "    <tr>\n",
       "      <th>94</th>\n",
       "      <td>2019</td>\n",
       "      <td>Chevrolet</td>\n",
       "      <td>Impala</td>\n",
       "      <td>19975</td>\n",
       "      <td>15558</td>\n",
       "      <td>0.108</td>\n",
       "    </tr>\n",
       "    <tr>\n",
       "      <th>95</th>\n",
       "      <td>2019</td>\n",
       "      <td>Chevrolet</td>\n",
       "      <td>Impala</td>\n",
       "      <td>21999</td>\n",
       "      <td>15597</td>\n",
       "      <td>0.119</td>\n",
       "    </tr>\n",
       "    <tr>\n",
       "      <th>96</th>\n",
       "      <td>2020</td>\n",
       "      <td>Chevrolet</td>\n",
       "      <td>Impala</td>\n",
       "      <td>26992</td>\n",
       "      <td>15750</td>\n",
       "      <td>0.146</td>\n",
       "    </tr>\n",
       "    <tr>\n",
       "      <th>97</th>\n",
       "      <td>2019</td>\n",
       "      <td>Chevrolet</td>\n",
       "      <td>Impala</td>\n",
       "      <td>26990</td>\n",
       "      <td>15889</td>\n",
       "      <td>0.147</td>\n",
       "    </tr>\n",
       "    <tr>\n",
       "      <th>98</th>\n",
       "      <td>2017</td>\n",
       "      <td>Chevrolet</td>\n",
       "      <td>Impala</td>\n",
       "      <td>25178</td>\n",
       "      <td>15962</td>\n",
       "      <td>0.137</td>\n",
       "    </tr>\n",
       "  </tbody>\n",
       "</table>\n",
       "<p>99 rows × 6 columns</p>\n",
       "</div>"
      ],
      "text/plain": [
       "    year       make   model  price  mileage  price_per_mile\n",
       "0   2017  Chevrolet  Impala  16665    10805           0.088\n",
       "1   2020  Chevrolet  Impala  26831    13142           0.144\n",
       "2   2017  Chevrolet  Impala  21595    16500           0.118\n",
       "3   2016  Chevrolet  Impala  25995    20305           0.145\n",
       "4   2017  Chevrolet  Impala  16995    21560           0.095\n",
       "..   ...        ...     ...    ...      ...             ...\n",
       "94  2019  Chevrolet  Impala  19975    15558           0.108\n",
       "95  2019  Chevrolet  Impala  21999    15597           0.119\n",
       "96  2020  Chevrolet  Impala  26992    15750           0.146\n",
       "97  2019  Chevrolet  Impala  26990    15889           0.147\n",
       "98  2017  Chevrolet  Impala  25178    15962           0.137\n",
       "\n",
       "[99 rows x 6 columns]"
      ]
     },
     "execution_count": 7,
     "metadata": {},
     "output_type": "execute_result"
    }
   ],
   "source": [
    "#import necessary python libraries\n",
    "import pandas as pd\n",
    "import numpy as np\n",
    "import seaborn as sns\n",
    "import matplotlib.pyplot as plt\n",
    "%matplotlib inline\n",
    "sns.set()     #Use seaborn style on matplotlib plots\n",
    "path = '/Users/mitty/Documents/coding/jupyter/practice/best_car_buy/cars_data_file.csv'\n",
    "\n",
    "df_train = pd.read_csv(path)\n",
    "\n",
    "df_train.head(99)"
   ]
  },
  {
   "cell_type": "code",
   "execution_count": null,
   "metadata": {},
   "outputs": [],
   "source": [
    "df_train.loc[df_train['make']=='Toyota',[' ','year','make','model','price','mileage','price_per_mile']]"
   ]
  },
  {
   "cell_type": "markdown",
   "metadata": {},
   "source": [
    "## Exploratory Data Analysis"
   ]
  },
  {
   "cell_type": "code",
   "execution_count": null,
   "metadata": {},
   "outputs": [],
   "source": [
    "# Check for null values\n",
    "\n",
    "\n",
    "sns.heatmap(df_train.isnull(), yticklabels=False, cbar=False, cmap='viridis')"
   ]
  },
  {
   "cell_type": "markdown",
   "metadata": {},
   "source": [
    "##### If there are null values then decisions should be made to correct the data. We could fill the nulls with the average value of the current data or we could drop the row all together. Both choices have an impact on the level of error in the study, but in our case, there are no null values to worry about."
   ]
  },
  {
   "cell_type": "code",
   "execution_count": 8,
   "metadata": {},
   "outputs": [
    {
     "data": {
      "text/plain": [
       "year              200\n",
       "make              200\n",
       "model             200\n",
       "price             200\n",
       "mileage           200\n",
       "price_per_mile    200\n",
       "dtype: int64"
      ]
     },
     "execution_count": 8,
     "metadata": {},
     "output_type": "execute_result"
    }
   ],
   "source": [
    "#check to see total number of samples\n",
    "df_train.count()"
   ]
  },
  {
   "cell_type": "code",
   "execution_count": null,
   "metadata": {},
   "outputs": [],
   "source": [
    "# view the 10 models with the lowest price per mile\n",
    "df_train.head(10).sort_values(by='price_per_mile', ascending=True)"
   ]
  },
  {
   "cell_type": "code",
   "execution_count": 10,
   "metadata": {},
   "outputs": [
    {
     "data": {
      "text/plain": [
       "<matplotlib.axes._subplots.AxesSubplot at 0x1237d4f98>"
      ]
     },
     "execution_count": 10,
     "metadata": {},
     "output_type": "execute_result"
    },
    {
     "data": {
      "image/png": "[encoded data removed]",
      "text/plain": [
       "<Figure size 432x288 with 1 Axes>"
      ]
     },
     "metadata": {},
     "output_type": "display_data"
    }
   ],
   "source": [
    "sns.barplot(x=\"year\", y=\"mileage\", data=df_train)"
   ]
  },
  {
   "cell_type": "code",
   "execution_count": 9,
   "metadata": {},
   "outputs": [
    {
     "data": {
      "text/plain": [
       "<matplotlib.axes._subplots.AxesSubplot at 0x121717390>"
      ]
     },
     "execution_count": 9,
     "metadata": {},
     "output_type": "execute_result"
    },
    {
     "data": {
      "image/png": "[encoded data removed]",
      "text/plain": [
       "<Figure size 432x288 with 1 Axes>"
      ]
     },
     "metadata": {},
     "output_type": "display_data"
    }
   ],
   "source": [
    "sns.scatterplot(x=\"price_per_mile\", y=\"mileage\", hue=\"model\", data=df_train)"
   ]
  },
  {
   "cell_type": "code",
   "execution_count": null,
   "metadata": {},
   "outputs": [],
   "source": [
    "sns.regplot(x=\"price_per_mile\", y=\"mileage\", data=df_train)"
   ]
  },
  {
   "cell_type": "code",
   "execution_count": 11,
   "metadata": {},
   "outputs": [
    {
     "data": {
      "image/png": "[encoded data removed]",
      "text/plain": [
       "<Figure size 432x288 with 1 Axes>"
      ]
     },
     "metadata": {},
     "output_type": "display_data"
    }
   ],
   "source": [
    "sns.distplot(df_train[\"price_per_mile\"]);"
   ]
  },
  {
   "cell_type": "code",
   "execution_count": null,
   "metadata": {},
   "outputs": [],
   "source": [
    "sns.distplot(df_train[\"mileage\"]);"
   ]
  },
  {
   "cell_type": "code",
   "execution_count": null,
   "metadata": {},
   "outputs": [],
   "source": []
  }
 ],
 "metadata": {
  "kernelspec": {
   "display_name": "Python 3",
   "language": "python",
   "name": "python3"
  },
  "language_info": {
   "codemirror_mode": {
    "name": "ipython",
    "version": 3
   },
   "file_extension": ".py",
   "mimetype": "text/x-python",
   "name": "python",
   "nbconvert_exporter": "python",
   "pygments_lexer": "ipython3",
   "version": "3.7.3"
  }
 },
 "nbformat": 4,
 "nbformat_minor": 4
}
